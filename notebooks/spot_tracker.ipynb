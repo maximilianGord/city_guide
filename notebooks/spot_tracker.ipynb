{
 "cells": [
  {
   "cell_type": "code",
   "execution_count": null,
   "metadata": {},
   "outputs": [
    {
     "name": "stderr",
     "output_type": "stream",
     "text": [
      "2025-03-06 21:41:49.724 WARNING streamlit.runtime.scriptrunner_utils.script_run_context: Thread 'MainThread': missing ScriptRunContext! This warning can be ignored when running in bare mode.\n"
     ]
    }
   ],
   "source": [
    "from langchain_groq import ChatGroq\n",
    "from langchain_community.tools import WikipediaQueryRun\n",
    "from langchain_community.utilities import WikipediaAPIWrapper\n",
    "\n",
    "import os \n",
    "os.environ[\"GROQ_API_KEY\"] = \"\"\n",
    "\n",
    "import requests\n",
    "import wikipedia\n",
    "from bs4 import BeautifulSoup\n",
    "\n",
    "import os\n",
    "import time\n",
    "import pickle\n",
    "import streamlit as st\n",
    "from datetime import datetime\n",
    "from streamlit_chat import message\n",
    "\n",
    "from langchain.vectorstores import FAISS\n",
    "from langchain.text_splitter import CharacterTextSplitter\n",
    "from langchain.embeddings.openai import OpenAIEmbeddings\n",
    "from langchain.chat_models import ChatOpenAI\n",
    "from langchain.schema import AIMessage, HumanMessage, SystemMessage\n",
    "\n"
   ]
  },
  {
   "cell_type": "code",
   "execution_count": 4,
   "metadata": {},
   "outputs": [
    {
     "name": "stdout",
     "output_type": "stream",
     "text": [
      "The first person to land on the moon was Neil Armstrong. He stepped out of the lunar module Eagle and onto the moon's surface on July 20, 1969, during the Apollo 11 mission. Armstrong famously declared, \"That's one small step for man, one giant leap for mankind,\" as he became the first human to set foot on the moon.\n"
     ]
    }
   ],
   "source": [
    "llm = ChatGroq(\n",
    "    temperature=0, \n",
    "    model_name=\"llama-3.3-70b-versatile\"\n",
    ")\n",
    "response = llm.invoke(\"The first person to land on moon was ...\")\n",
    "print(response.content)"
   ]
  },
  {
   "cell_type": "code",
   "execution_count": null,
   "metadata": {},
   "outputs": [],
   "source": [
    "import chromadb\n",
    "import uuid\n",
    "\n",
    "\n",
    "def get_wiki(search):\n",
    "    # set language to English (default is auto-detect)\n",
    "    lang = \"en\"\n",
    "\n",
    "    \"\"\"\n",
    "    fetching summary from wikipedia\n",
    "    \"\"\"\n",
    "    # set language to English (default is auto-detect)\n",
    "    #summary = wikipedia.summary(search, sentences = 5)\n",
    "\n",
    "    \"\"\"\n",
    "    scrape wikipedia page of the requested query\n",
    "    \"\"\"\n",
    "\n",
    "    # create URL based on user input and language\n",
    "    url = f\"https://{lang}.wikipedia.org/wiki/{search}\"\n",
    "\n",
    "    # send GET request to URL and parse HTML content\n",
    "    response = requests.get(url)\n",
    "    soup = BeautifulSoup(response.content, \"html.parser\")\n",
    "\n",
    "    # extract main content of page\n",
    "    content_div = soup.find(id=\"mw-content-text\")\n",
    "\n",
    "    # Find all headers (h2, h3, etc.)\n",
    "    headers = content_div.find_all(['h3'])\n",
    "\n",
    "    chroma_client = chromadb.PersistentClient('vectorstore')\n",
    "    collection = chroma_client.get_or_create_collection(name=search)\n",
    "    for header in headers:\n",
    "            collection.add(documents=header.get_text(strip=True),\n",
    "                                ids=[str(uuid.uuid4())])\n",
    "    selected_headers_names = collection.query(query_texts=\"Spots that could be interesting for a tourist. The tourist claims to have following interest : {}\".format(\"I like history\"), n_results=2).get('documents', [])\n",
    "    selected_text = \"\"\n",
    "    print(selected_headers_names)\n",
    "    for header in headers:\n",
    "        headline_text = header.get_text(strip=True)\n",
    "        if headline_text in selected_headers_names[0]:\n",
    "            section_text = [headline_text+\" : \"]\n",
    "            sibling_count = 0\n",
    "            for sibling in header.find_parent().find_next_siblings():\n",
    "                if (sibling.name and sibling.name.startswith('h')) or sibling_count>1:\n",
    "                    print(sibling_count)\n",
    "                    break  # Stop if another header is found\n",
    "                if sibling.name == 'p':\n",
    "                    print(\"---\")\n",
    "                    section_text.append(sibling.get_text())\n",
    "                    if sibling.get_text() != \"\":\n",
    "                        sibling_count+=1\n",
    "\n",
    "            selected_text = selected_text.join(section_text)\n",
    "\n",
    "    return selected_text\n",
    "\n",
    "\n"
   ]
  },
  {
   "cell_type": "code",
   "execution_count": 17,
   "metadata": {},
   "outputs": [
    {
     "name": "stdout",
     "output_type": "stream",
     "text": [
      "[['Tourism', 'Tourism', 'Tourism', 'Tourism', 'Tourism']]\n",
      "---\n",
      "---\n",
      "2\n",
      "Tourism : Starting in the mid-1990s, Valencia, formerly an industrial centre, saw rapid development that expanded its cultural and tourism possibilities, and transformed it into a newly vibrant city. Many local landmarks were restored, including the medieval Torres de Serranos and Quart Towers and the Monasterio de San Miguel de los Reyes, which now holds a conservation library. Whole sections of the old city, for example the Carmen Quarter, have been extensively renovated. The Passeig Marítim, a 4 km (2 mi) long palm tree-lined beach promenade, was constructed along the beaches of the north side of the port (Platja de Les Arenes, Platja del Cabanyal and Platja de la Malva-rosa).\n",
      "Valencia boasts a highly active and diverse nightlife, with bars, dance bars, beach bars and nightclubs staying open well past midnight.[105] The city has numerous convention centres and venues for trade events, among them the Institución Ferial de Valencia and the Palau de Congressos (Conference Palace), and several five-star hotels to accommodate business travelers.\n",
      "\n"
     ]
    }
   ],
   "source": [
    "page_data = get_wiki(\"Valencia\")\n",
    "print(page_data)\n"
   ]
  },
  {
   "cell_type": "markdown",
   "metadata": {},
   "source": []
  },
  {
   "cell_type": "code",
   "execution_count": 26,
   "metadata": {},
   "outputs": [
    {
     "data": {
      "text/plain": [
       "str"
      ]
     },
     "execution_count": 26,
     "metadata": {},
     "output_type": "execute_result"
    }
   ],
   "source": [
    "from langchain_core.prompts import PromptTemplate\n",
    "\n",
    "prompt_extract = PromptTemplate.from_template(\n",
    "        \"\"\"\n",
    "        ### SCRAPED TEXT FROM WEBSITE:\n",
    "        {page_data}\n",
    "        ### INSTRUCTION:\n",
    "        The scraped text is from wikipedia site of {search}.\n",
    "        Your job is to extract the places, buildings or cites which a tourist would find interesting. Return them in JSON format containing the \n",
    "        following keys: `name`, `type`, `description`, 'history'. The key \"type\" is a categorical key. The corresponding categories are : history, art, culture, architecture, general.\n",
    "        Only return the valid JSON.\n",
    "        ### VALID JSON (NO PREAMBLE):    \n",
    "        \"\"\"\n",
    ")\n",
    "\n",
    "chain_extract = prompt_extract | llm \n",
    "res = chain_extract.invoke(input={'page_data':page_data, 'search':\"Garching\"})\n",
    "type(res.content)"
   ]
  },
  {
   "cell_type": "code",
   "execution_count": 27,
   "metadata": {},
   "outputs": [
    {
     "data": {
      "text/plain": [
       "[{'name': 'Garching',\n",
       "  'type': 'general',\n",
       "  'description': 'A city in Bavaria, near Munich, known for its research institutes and university departments',\n",
       "  'history': 'Garching was a small Bavarian village until the Free State of Bavaria decided to implement a technology and urban planning policy'},\n",
       " {'name': 'Campus Garching',\n",
       "  'type': 'architecture',\n",
       "  'description': 'A campus located in Garching, home to several research institutes and university departments',\n",
       "  'history': 'Established as part of the urban planning policy to cluster science north of Munich'},\n",
       " {'name': 'Max Planck Institute for Plasma Physics',\n",
       "  'type': 'culture',\n",
       "  'description': 'A research institute established in Garching in 1960',\n",
       "  'history': 'Founded in 1960 as part of the Max Planck Society'},\n",
       " {'name': 'Max Planck Institute for Extraterrestrial Physics',\n",
       "  'type': 'culture',\n",
       "  'description': 'A research institute established in Garching in 1964',\n",
       "  'history': 'Founded in 1964 as part of the Max Planck Society'},\n",
       " {'name': 'Walther Meißner Institute for Low Temperature Research',\n",
       "  'type': 'culture',\n",
       "  'description': 'A research institute established in Garching in 1966',\n",
       "  'history': 'Founded in 1966 by the Bavarian Academy of Sciences and Humanities'},\n",
       " {'name': 'Garching-Hochbruck',\n",
       "  'type': 'general',\n",
       "  'description': 'An industry zone in Garching',\n",
       "  'history': 'Built up as part of the urban planning policy'},\n",
       " {'name': 'Garching Science Campus',\n",
       "  'type': 'architecture',\n",
       "  'description': 'A science campus located in Garching, connected to Munich by the U-Bahn line U6',\n",
       "  'history': 'Established as part of the urban planning policy to cluster science north of Munich'},\n",
       " {'name': 'Munich U-Bahn line U6',\n",
       "  'type': 'architecture',\n",
       "  'description': 'A U-Bahn line connecting Garching to Munich',\n",
       "  'history': 'Established to connect Garching to Munich'},\n",
       " {'name': 'River Isar',\n",
       "  'type': 'general',\n",
       "  'description': 'A river located near Garching',\n",
       "  'history': 'A natural river flowing through the region'},\n",
       " {'name': 'Bundesautobahn 9',\n",
       "  'type': 'architecture',\n",
       "  'description': 'A highway located near Garching',\n",
       "  'history': 'Built as part of the German highway system'}]"
      ]
     },
     "execution_count": 27,
     "metadata": {},
     "output_type": "execute_result"
    }
   ],
   "source": [
    "from langchain_core.output_parsers import JsonOutputParser\n",
    "\n",
    "json_parser = JsonOutputParser()\n",
    "json_res = json_parser.parse(res.content)\n",
    "json_res"
   ]
  },
  {
   "cell_type": "code",
   "execution_count": 28,
   "metadata": {},
   "outputs": [],
   "source": [
    "import json\n",
    "import csv\n",
    "\n",
    "# now we will open a file for writing\n",
    "data_file = open('spots_Garching.csv', 'w')\n",
    " \n",
    "# create the csv writer object\n",
    "csv_writer = csv.writer(data_file)\n",
    " \n",
    "\n",
    "count = 0\n",
    " \n",
    "for spot in json_res:\n",
    "    if count == 0:\n",
    " \n",
    "        # Writing headers of CSV file\n",
    "        header = spot.keys()\n",
    "        csv_writer.writerow(header)\n",
    "        count += 1\n",
    " \n",
    "    # Writing data of CSV file\n",
    "    csv_writer.writerow(spot.values())\n",
    " \n",
    "data_file.close()"
   ]
  }
 ],
 "metadata": {
  "kernelspec": {
   "display_name": "Python 3",
   "language": "python",
   "name": "python3"
  },
  "language_info": {
   "codemirror_mode": {
    "name": "ipython",
    "version": 3
   },
   "file_extension": ".py",
   "mimetype": "text/x-python",
   "name": "python",
   "nbconvert_exporter": "python",
   "pygments_lexer": "ipython3",
   "version": "3.12.8"
  }
 },
 "nbformat": 4,
 "nbformat_minor": 2
}
